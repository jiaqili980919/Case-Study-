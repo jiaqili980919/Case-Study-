{
 "cells": [
  {
   "cell_type": "markdown",
   "id": "11b9b76f",
   "metadata": {},
   "source": [
    "# Import Packages"
   ]
  },
  {
   "cell_type": "code",
   "execution_count": 1,
   "id": "43894793",
   "metadata": {},
   "outputs": [],
   "source": [
    "import pandas as pd\n",
    "import numpy as np\n",
    "import nltk\n",
    "import os\n",
    "from pprint import pprint\n",
    "import itertools\n",
    "#nltk.download()\n",
    "from nltk.sentiment import SentimentIntensityAnalyzer\n",
    "from wordcloud import WordCloud\n",
    "import matplotlib.pyplot as plt"
   ]
  },
  {
   "cell_type": "markdown",
   "id": "2faab346",
   "metadata": {},
   "source": [
    "# Read TextFiles"
   ]
  },
  {
   "cell_type": "code",
   "execution_count": 2,
   "id": "5ce927ac",
   "metadata": {},
   "outputs": [],
   "source": [
    "#read review data\n",
    "review=[] #create a list of reviews for diff apartments\n",
    "arr = os.listdir('../data')\n",
    "strtxt = \".txt\"\n",
    "for txtfile in arr:\n",
    "    if txtfile.__contains__(strtxt):\n",
    "        txtfile='../data/'+txtfile\n",
    "        fileObject = open(txtfile, \"r\")\n",
    "        review.append(fileObject.read())\n",
    "        fileObject.close()"
   ]
  },
  {
   "cell_type": "markdown",
   "id": "96892b5d",
   "metadata": {},
   "source": [
    "# Clean Text"
   ]
  },
  {
   "cell_type": "code",
   "execution_count": 3,
   "id": "586b1f8d",
   "metadata": {},
   "outputs": [
    {
     "name": "stdout",
     "output_type": "stream",
     "text": [
      "['Worst', 'Place', 'I', \"'\", 've', 'Ever', 'Rented', '.', 'Proceed', 'With',\n",
      " 'Caution', 'If', 'Apartments.com', 'offered', 'a', 'zero-stars', 'rating',\n",
      " ',', 'I', 'would', 'be', 'using', 'it', 'for', 'this', 'tenant-trap', 'of',\n",
      " 'a', 'property', '.', 'Our', 'disastrous', 'journey', 'began', 'in', 'April',\n",
      " 'when', 'the', 'leasing', 'agent', 'sold', 'us', 'oceanfront', 'property',\n",
      " 'in', 'Arizona', '--', 'in', 'other', 'words', ',', 'her', 'leasing', 'spiel',\n",
      " 'did', 'not', 'come', 'close', 'to', 'matching', 'reality', '.', 'Our',\n",
      " 'leasing', 'agent', 'stated', 'that', 'the', 'building', 'has', 'a',\n",
      " 'zero-tolerance', 'policy', 'for', 'noise', 'offenders', 'and', 'drug', 'use',\n",
      " '.', 'REALITY', 'CHECK', ':', 'As', 'we', 'were', 'in', 'the', 'process',\n",
      " 'of', 'moving', 'in', 'and', 'discovered', 'the', 'apartment', 'was',\n",
      " 'literally', '90', 'degrees', ',', 'we', 'opened', 'the', 'series', 'of',\n",
      " 'patio', 'doors', 'to', 'get', 'fresh', 'air', '.', 'Well', ',', 'if', 'you',\n",
      " 'want', 'fresh', 'air', ',', 'forget', 'that', 'because', 'what', 'you',\n",
      " 'WILL', 'get', 'instead', 'is', 'a', 'steady', 'stream', 'of', 'POT', 'smoke',\n",
      " '.', 'My', 'partner', 'and', 'I', 'are', 'both', 'highly', 'allergic', 'to',\n",
      " 'pot', 'smoke', '.', 'We', 'checked', 'the', 'lease', ':', 'Use', 'of',\n",
      " 'illegal', 'substances', '(', 'INCLUDING', 'medical', 'marijuana', ')', 'is',\n",
      " 'strictly', 'prohibited', '.', 'We', 'complained', '.', 'Management',\n",
      " 'shrugged', 'it', 'off', '.', 'DRUG', 'USE', 'IS', 'RAMPANT', 'AND',\n",
      " 'TOLERATED', 'BY', 'MANAGEMENT', 'Five', 'months', 'later', 'as', 'I', 'am',\n",
      " 'suffering', 'adverse', 'effects', 'to', 'my', 'health', ',', 'and', 'after',\n",
      " 'numerous', 'complaints', 'to', 'the', 'new', 'Property', 'Manager', 'it',\n",
      " 'remains', 'an', 'unresolved', 'issue', 'varying', 'responses', 'to', 'our',\n",
      " 'email', 'complaints', '.', 'They', 'state', 'they', 'can', 'not', 'do',\n",
      " 'anything', 'about', 'pot', 'smoke', 'from', 'neighboring', 'patios', 'flood',\n",
      " 'others', \"'\", 'apartments', '.', 'Latest', 'response', 'from', 'management',\n",
      " 'is', ',', 'that', 'despite', 'what', 'the', 'lease', 'agreement', 'states',\n",
      " ',', 'they', 'actually', 'DO', 'allow', 'medical', 'marijuana', '--',\n",
      " 'always', 'have', 'and', 'always', 'will', '.', 'When', 'we', 'brought',\n",
      " 'this', 'up', 'to', 'the', 'leasing', 'agent', 'after', 'the', 'FIRST',\n",
      " 'night', 'in', 'the', 'apartment', 'she', 'said', ',', '``', 'well', ',',\n",
      " 'that', 'IS', 'the', 'elephant', 'in', 'the', 'room', ',', 'is', \"n't\", 'it',\n",
      " '.', \"''\", 'Are', 'we', 'to', 'assume', 'that', 'every', 'single',\n",
      " 'twenty-something', '(', 'and', 'all', 'of', 'their', 'partying', '``',\n",
      " 'guests', \"''\", ')', 'and', 'every', 'forty-something', 'who', 'should',\n",
      " 'know', 'better', '(', 'and', 'all', 'of', 'their', 'partying', '``',\n",
      " 'guests', \"''\", ')', 'have', 'medical', 'marijuana', 'use', 'cards', '?',\n",
      " 'Highly', 'doubtful', '.', 'SKETCHY', 'VISITORS', '24/7', 'It', 'is', 'a',\n",
      " 'revolving', 'door', 'of', 'the', 'sketchiest', ',', 'seediest', 'people',\n",
      " 'who', 'come', 'to', 'visit', 'and', 'seemingly', 'never', 'leave', '.',\n",
      " 'Not', 'that', 'the', 'security', 'team', 'does', \"n't\", 'try', 'to', 'keep',\n",
      " 'up', 'with', 'the', 'influx', 'of', 'questionable', \"'visitors\", \"'\", '.',\n",
      " 'The', 'second-shift', 'security', 'officer', 'is', 'a', 'gem', '.', 'But',\n",
      " 'woe', 'to', 'those', 'tenants', 'who', 'have', 'a', 'security-related',\n",
      " 'issue', 'after', '11', 'p.m.', 'when', 'the', 'night', 'guard', 'takes',\n",
      " 'the', 'post', '.', 'I', \"'\", 've', 'seen', 'the', 'third-shift', 'officer',\n",
      " ',', 'on', 'a', 'nightly', 'basis', ',', 'wave', 'in', 'visitors', 'rather',\n",
      " 'than', 'following', 'the', 'procedure', 'to', 'sign', 'in', 'guests', '.',\n",
      " '(', 'Any', 'apartment', 'building', 'that', 'has', 'to', 'resort', 'to',\n",
      " 'requiring', 'identification', 'and', 'sign-ins', 'for', 'visitors',\n",
      " 'already', 'has', 'a', 'bigger', 'problem', 'and', 'is', 'treating', 'the',\n",
      " 'symptom', ',', 'not', 'the', 'disease', '.', ')']\n",
      "['This', 'is', 'my', 'first', 'time', 'to', 'live', 'in', 'an', 'apartment',\n",
      " 'and', 'Hana', 'makes', 'it', 'wonderful', '.', 'Nice', 'people', 'here', ',',\n",
      " 'including', 'neighbors', 'and', 'management', 'staffs', ';', 'Plenty', 'of',\n",
      " 'amenities', 'for', 'daily', 'life', '.', 'And', 'the', 'most', 'important',\n",
      " ',', 'amazing', 'views', 'on', 'the', 'balcony', '!', 'Though', 'sometimes',\n",
      " 'small', 'problems', ',', 'something', 'like', 'hot', 'water', ',', 'they',\n",
      " 'are', 'all', 'dealt', 'with', 'quickly', '.']\n",
      "['Beautiful', ',', 'modern', 'new', 'building', 'with', 'a', 'killer',\n",
      " 'rooftop', ',', 'great', 'amenities', 'and', 'a', 'very', 'friendly', 'and',\n",
      " 'helpful', 'staff', '.', 'Megan', 'in', 'the', 'leasing', 'office', 'is',\n",
      " 'the', 'kindest', ',', 'most', 'helpful', 'person', '!', 'She', 'took',\n",
      " 'care', 'of', 'all', 'of', 'my', 'requests', ',', 'so', 'grateful', 'for',\n",
      " 'her', '!', 'The', 'security', ',', 'Steve', 'and', 'Tony', 'were', 'also',\n",
      " 'super', 'helpful', 'and', 'a', 'pleasure', 'to', 'chat', 'with', 'when',\n",
      " 'passing', 'thru', 'the', 'lobby', '.', 'Greg', ',', 'in', 'maintenance',\n",
      " 'was', 'also', 'super', 'helpful', 'and', 'quick', 'to', 'respond', 'to',\n",
      " 'requests', '.', 'The', 'building', 'is', 'winning', 'but', 'the', 'location',\n",
      " 'killed', 'it', 'for', 'me', '.', 'The', 'construction', 'and', 'homeless',\n",
      " 'was', 'intense', 'so', 'be', 'sure', 'to', 'consider', 'this', '.']\n",
      "['I', \"'\", 've', 'lived', 'in', 'good', 'old', 'glorious', 'KTown', 'for',\n",
      " 'about', '3', 'years', 'now', '.', 'No', 'matter', 'how', 'hard', 'I', 'try',\n",
      " 'to', 'leave', 'this', 'hell', 'hole', 'of', 'a', 'city', 'it', 'seems', 'to',\n",
      " 'shackle', 'me', 'here', '.', 'Sure', 'the', 'food', 'is', 'good', 'and',\n",
      " 'there', 'are', 'things', 'to', 'do', ',', 'but', 'I', 'do', \"n't\", 'even',\n",
      " 'want', 'to', 'go', 'outside', '.', 'It', \"'s\", 'hard', 'to', 'stay',\n",
      " 'inside', 'because', 'of', 'all', 'the', 'helicopters', 'and', 'police',\n",
      " 'sirens', 'that', 'blare', 'on', 'a', 'nightly', 'basis', '.', 'My', 'lease',\n",
      " 'was', 'up', ',', 'and', 'I', 'thought', 'about', 'moving', 'back', 'to',\n",
      " 'Orange', 'County', 'or', 'any', 'other', 'county', '.', 'Then', 'one', 'day',\n",
      " 'on', 'the', 'way', 'to', 'work', 'I', 'drive', 'past', 'Aria', 'hotel', '.',\n",
      " 'I', 'thought', 'to', 'myself', 'what', 'is', 'this', 'baller', 'ass',\n",
      " 'building', '?', 'I', 'did', 'some', 'research', 'and', 'fell', 'in', 'love',\n",
      " '.', 'I', 'made', 'an', 'appointment', 'and', 'William', 'showed', 'me',\n",
      " 'around', '.', 'I', 'could', \"n't\", 'believe', 'what', 'I', 'was', 'walking',\n",
      " 'through', '.', 'A', 'dog', 'park', 'on', 'the', 'roof', '?', 'A', 'one',\n",
      " 'acre', 'walking', 'area', 'that', \"'s\", 'dog', 'friendly', '?', 'Korean',\n",
      " 'bbq', 'tables', 'all', 'along', 'the', 'roof', '?', 'A', 'gym', 'that',\n",
      " 'rivals', '24', 'hour', 'fitness', '?', 'A', 'heated', 'pool', '?', 'Floor',\n",
      " 'to', 'ceiling', 'windows', 'with', 'crazy', 'views', '?', 'A', 'WASHER',\n",
      " 'AND', 'DRYER', 'INSIDE', 'THE', 'FREAKIN', 'APARTMENT', '?', '?', '?',\n",
      " 'There', \"'s\", 'no', 'way', 'I', 'could', 'afford', 'this', 'place', '.',\n",
      " 'Only', 'doctors', 'lawyers', 'and', 'nba', 'players', 'can', 'live', 'here',\n",
      " '.', 'Then', 'William', 'proceeded', 'to', 'tell', 'me', 'that', 'I', 'was',\n",
      " 'wrong', 'and', 'gave', 'me', 'pricing', '.', 'The', 'rest', 'is', 'history',\n",
      " '.', 'Not', 'only', 'is', 'this', 'place', 'drop', 'dead', 'gorgeous', '.',\n",
      " 'But', 'the', 'amenities', 'are', 'ridiculous', '.', 'Parking', 'is',\n",
      " 'awesome', '.', 'The', 'concierge', 'is', 'super', 'helpful', '.', 'Yes', 'I',\n",
      " 'said', 'concierge', '.', 'They', 'have', 'a', 'concierge', 'here', 'that',\n",
      " 'does', 'everything', '.', 'Cleaning', 'people', 'are', 'cleaning',\n",
      " 'something', 'every', '5', 'seconds', '.', 'Security', 'looks', 'like',\n",
      " 'they', 'can', 'actually', 'take', 'down', 'some', 'intruders', '.', 'And',\n",
      " 'the', 'property', 'managers', 'are', 'incredibly', 'informative', 'and',\n",
      " 'friendly', '.', 'Yes', 'I', 'still', 'live', 'in', 'stupid', 'ktown', 'but',\n",
      " 'ktown', 'looks', 'so', 'much', 'beautiful', 'looking', 'out', 'from',\n",
      " 'floor', 'to', 'ceiling', 'windows', '.', 'Also', 'I', 'do', \"n't\", 'have',\n",
      " 'to', 'worry', 'about', 'my', 'dog', 'getting', 'jacked', 'when', 'I', 'take',\n",
      " 'her', 'for', 'a', 'walk', 'at', 'night', '.', 'If', 'you', 'are',\n",
      " 'unfortunate', 'enough', 'to', 'live', 'in', 'this', 'hell', 'hole', 'of',\n",
      " 'a', 'city', ',', 'there', 'is', 'a', 'heaven', 'at', 'Kurve', '.']\n",
      "['Brand', 'new', '``', 'luxury', \"''\", 'apartment', 'in', 'k-town', 'with',\n",
      " 'so', 'much', 'potential', '...', 'yet', 'already', 'a', 'lot', 'of',\n",
      " 'concerns', '.', 'This', 'apartment', 'opened', 'its', 'doors', 'too',\n",
      " 'early', '.', 'Writing', 'this', 'review', 'in', 'hopes', 'that', 'the',\n",
      " 'property', 'management', 'team', 'can', 'make', 'some', 'changes', 'before',\n",
      " 'more', 'residents', 'start', 'living', 'here', '.', '-', 'Two', 'scheduled',\n",
      " 'LADWP', 'electrical', 'outages', 'for', 'pretty', 'much', 'the', 'entire',\n",
      " 'day', 'in', 'a', 'span', 'of', 'a', 'month', '.', 'I', \"'\", 've', 'lived',\n",
      " 'in', 'two', 'brand', 'new', 'apartments', 'prior', 'to', 'this', '.', 'I',\n",
      " 'never', 'experienced', 'this', 'problem', 'before', '-', 'did', 'they',\n",
      " 'not', 'get', 'their', 'proper', 'inspections', 'done', 'beforehand', '?',\n",
      " 'If', 'you', 'work', 'from', 'home', ',', 'this', 'will', 'become', 'your',\n",
      " 'biggest', 'concern', '.', '-', 'Currently', 'writing', 'this', 'in', 'an',\n",
      " 'unexpected', 'power', 'outage', 'the', 'day', 'before', 'the', 'scheduled',\n",
      " 'power', 'outage', 'so', 'now', 'I', 'have', 'to', 'deal', 'with', 'spoiled',\n",
      " 'food', 'along', 'with', 'not', 'being', 'able', 'to', 'finish', 'my', 'work',\n",
      " '.', '-', 'Overall', 'property', 'maintenance/cleaning', 'needs', 'to', 'be',\n",
      " 'improved', '.', 'For', 'a', 'brand', 'new', 'apartment', ',', 'it', 'is',\n",
      " 'shocking', 'to', 'see', 'how', 'dirty', 'some', 'of', 'the', 'common',\n",
      " 'areas', 'are', 'becoming', '.', 'How', 'can', 'they', 'even', 'tour', 'this',\n",
      " 'place', 'to', 'new', 'prospective', 'tenants', '?', 'I', 'would', \"n't\",\n",
      " 'sign', 'the', 'lease', 'if', 'I', 'see', 'the', 'property', 'in', 'its',\n",
      " 'state', 'currently', '.', 'Trash', 'cans', 'outside', 'the', 'gym', 'has',\n",
      " 'been', 'full', 'since', 'I', \"'\", 've', 'moved', 'in', '.', 'The', 'rooftop',\n",
      " 'already', 'has', 'signs', 'of', 'neglect', 'despite', 'the', 'outdoor',\n",
      " 'cushions', 'still', 'unwrapped', 'not', 'put', 'together', '.', 'Lack', 'of',\n",
      " 'landscape', 'maintenance', 'is', 'causing', 'weeds', 'to', 'thrive', '.',\n",
      " 'Dead', 'plants', 'are', 'more', 'common', 'with', 'cigarette', 'butts', '.',\n",
      " 'The', 'grill', 'is', 'already', 'filthy', '.', 'No', 'signs', 'of',\n",
      " 'mopping', 'or', 'general', 'cleaning', '-', 'the', 'rooftop', ',', 'once',\n",
      " 'gorgeous', ',', 'is', 'becoming', 'filled', 'with', 'tenants', 'who', 'do',\n",
      " \"n't\", 'pick', 'up', 'after', 'their', 'dog', '.', 'The', 'courtyard', 'is',\n",
      " 'a', 'breeding', 'ground', 'for', 'flies', 'and', 'the', 'ground', 'has',\n",
      " 'never', 'been', 'cleaned', '.', '-', 'No', 'front', 'door', 'security', '.',\n",
      " 'The', 'security', 'sits', 'in', 'front', 'of', 'the', 'garage', 'instead',\n",
      " 'of', 'the', 'front', 'door', '.', 'We', 'need', 'one', 'in', 'the', 'front',\n",
      " '.', 'It', \"'s\", 'just', 'an', 'empty', 'desk', '-', 'only', 'a', 'matter',\n",
      " 'of', 'time', 'before', 'unwanted', 'guests', 'can', 'wander', 'through',\n",
      " 'the', 'hallways', 'and', 'packages', 'go', 'missing', '.', '-', 'The',\n",
      " 'management', 'likes', 'to', 'nickel', 'and', 'dime', 'you', 'for',\n",
      " 'everything', '.', '$', '125', 'monthly', 'parking-', 'no', 'concession', '.',\n",
      " 'Oh', 'wait', ',', 'add', 'a', 'deposit', '&', 'another', 'parking', 'fee',\n",
      " '.', '$', '20', 'for', 'package', 'concierge', 'system', '.', '-', 'all',\n",
      " 'these', 'charges', 'but', 'the', 'moment', 'you', 'try', 'to', 'have', 'a',\n",
      " 'guest', 'park', ',', 'they', 'will', 'threaten', 'you', 'with', '3',\n",
      " 'towing', 'emails', '.', 'This', 'place', 'has', 'so', 'many', 'empty',\n",
      " 'spots', ',', 'why', 'not', 'allow', 'some', 'spaces', 'to', 'be', 'opened',\n",
      " 'up', '?', '-', '1st', 'floor', 'parking', 'will', 'have', 'tons', 'of',\n",
      " 'pigeons', 'and', 'bird', 'crap', '.', '-', 'garage', 'is', 'already',\n",
      " 'leaking', 'in', 'some', 'places', '.', '-', 'trash', 'and', 'recycle',\n",
      " 'receptacles', 'are', 'overflowing', '.', 'We', \"'re\", 'not', 'even', 'near',\n",
      " 'a', 'full', 'vacancy', '...', 'ca', \"n't\", 'imagine', 'how', 'the',\n",
      " 'management', 'will', 'keep', 'up', 'with', 'the', 'building', 'at', 'even',\n",
      " '50', '%', '.', 'I', 'pay', 'way', 'too', 'much', 'for', 'my', 'place', 'to',\n",
      " 'not', 'have', 'a', 'clean', 'property', '.', 'I', 'really', 'hope', 'that',\n",
      " 'the', 'management', 'company', 'can', 'start', 'taking', 'care', 'of',\n",
      " 'minor', 'problems', 'before', 'they', 'become', 'bigger', '.']\n",
      "['High', 'end', 'apartments', 'that', 'are', 'extremely', 'spacious', '.',\n",
      " 'We', 'have', '3', 'roommates', 'who', 'all', 'work', 'from', 'home', 'but',\n",
      " 'we', 'are', 'Neve', 'run', 'each', 'other', \"'s\", 'space', '.',\n",
      " 'Walkability', 'to', 'Larchmont', 'and', 'always', 'street', 'parking', '.',\n",
      " 'Garage', 'parking', 'is', 'a', 'little', 'tight', '.', 'Overall', 'love',\n",
      " 'living', 'here', 'and', 'management', 'is', 'great', '-', 'responds',\n",
      " 'right', 'away', 'and', 'takes', 'care', 'of', 'any', 'request', 'quickly',\n",
      " '!']\n",
      "['DO', 'NOT', 'MOVE', 'HERE', '!', 'This', 'is', 'why', '....', '1', '.',\n",
      " 'This', 'place', 'is', 'infested', 'with', 'BED', 'BUGS', '.', 'The',\n",
      " 'manager', ',', 'Steve', 'will', 'lie', 'and', 'say', 'that', 'there', 'it',\n",
      " 'is', 'not', 'a', 'current', 'problem', 'but', 'that', \"'s\", 'not', 'the',\n",
      " 'case', '.', 'It', \"'s\", 'only', 'a', 'matter', 'of', 'time', 'before', 'it',\n",
      " 'becomes', 'an', 'issue', '.', 'My', 'unit', 'had', 'to', 'be', 'fumigated',\n",
      " 'and', 'Steve', 'said', 'my', 'neighbors', 'next', 'door', 'were', 'filthy',\n",
      " 'and', 'that', \"'s\", 'where', 'the', 'problem', 'started', '.', 'I', 'spoke',\n",
      " 'to', 'my', 'neighbors', 'and', 'they', 'said', 'the', 'unit', 'above',\n",
      " 'them', 'was', 'infested', 'and', 'Steve', 'said', 'the', 'problem', 'came',\n",
      " 'from', 'them', '.', 'In', 'other', 'words', ',', 'management', 'knows',\n",
      " 'the', 'building', 'is', 'invested', 'and', 'will', 'just', 'blame', 'it',\n",
      " 'on', 'someone', 'else', '.', 'I', 'saw', 'a', 'couple', 'roaches', 'here',\n",
      " '&', 'there', 'but', 'that', 'does', \"n't\", 'compare', 'to', 'being', 'eaten',\n",
      " 'alive', 'by', 'nasty', 'bed', 'bugs', '.', 'They', 'are', 'a', 'huge',\n",
      " 'headache', 'to', 'her', 'rid', 'of', 'too', '.', '2', '.', 'The', 'manager',\n",
      " 'will', 'enter', 'your', 'apartment', 'without', 'permission', 'to', 'fix',\n",
      " 'repairs', '.', 'How', 'do', 'I', 'know', '?', 'I', 'filled', 'out', 'a',\n",
      " 'maintenance', 'sheet', 'and', 'checked', \"'Do\", 'not', 'enter', 'unless',\n",
      " 'resident', 'is', 'present', \"'\", '.', 'A', 'friend', 'was', 'using', 'the',\n",
      " 'restroom', 'when', 'Steve', '&', 'maintenance', 'opened', 'the', 'apartment',\n",
      " 'door', 'anyway', 'to', 'fix', 'the', 'repair', '.', '3', '.', 'Do', \"n't\",\n",
      " 'expect', 'to', 'get', 'your', 'full', 'security', 'deposit', 'back', '.',\n",
      " 'They', 'will', 'make', 'up', 'some', 'bs', 'as', 'to', 'why', 'all', 'of',\n",
      " 'your', 'money', 'ca', \"n't\", 'be', 'returned', '.', '4', '.', 'The', 'walls',\n",
      " 'a', 'extra', 'thin', '&', 'the', 'elevator', 'never', 'works', '.', 'I',\n",
      " \"'m\", 'glad', 'I', 'only', 'had', 'a', 'sixth', 'month', 'contract', 'at',\n",
      " 'this', 'place', '&', 'I', 'left', 'as', 'soon', 'as', 'possible', '.',\n",
      " 'Save', 'yourself', 'the', 'headache', 'and', 'find', 'somewhere', 'else',\n",
      " 'to', 'live', '.']\n",
      "['Cristina', 'and', 'the', 'staff', 'were', 'very', 'friendly', 'and',\n",
      " 'caring', 'during', 'my', 'Grandmother', \"'s\", 'stay', 'there', '.',\n",
      " 'Cristina', 'went', 'out', 'of', 'her', 'way', 'to', 'help', 'me', 'figure',\n",
      " 'out', 'what', 'programs', 'my', 'grandmother', 'qualifies', 'for', 'and',\n",
      " 'made', 'it', 'so', 'much', 'easier', 'to', 'navigate', 'those', 'waters',\n",
      " '.', 'She', 'met', 'with', 'me', ',', 'my', 'mother', 'and', 'my', 'aunt',\n",
      " 'and', 'was', 'always', 'open', 'to', 'communication', 'and', 'patient',\n",
      " 'with', 'us', 'during', 'the', 'process', '.', 'They', 'also', 'did', 'their',\n",
      " 'best', 'to', 'make', 'my', 'grandmother', 'feel', 'welcome', 'and', 'cared',\n",
      " 'for', '.', 'Very', 'grateful', 'for', 'their', 'effort', 'during', 'a',\n",
      " 'very', 'tough', 'time.NDO']\n",
      "['Scarlett', 'was', 'my', 'leasing', 'agent', 'and', 'the', 'tour', 'was',\n",
      " 'so', 'exceptional', 'that', 'I', 'applied', 'that', 'same', 'day', '!',\n",
      " 'Before', 'moving', 'to', 'LA', 'I', 'toured', '12', 'apartment', 'buildings',\n",
      " 'all', 'over', 'the', 'city', ',', 'and', 'I', 'can', 'honestly', 'say',\n",
      " 'that', 'The', 'Pearl', 'offered', 'the', 'best', 'overall', 'experience',\n",
      " '.', 'Scarlett', 'was', 'very', 'helpful', 'with', 'informing', 'me', 'about',\n",
      " 'the', 'building', ',', 'the', 'surrounding', 'area', ',', 'and', 'the',\n",
      " 'future', 'developments', 'that', 'would', 'take', 'place', 'in', 'the',\n",
      " 'apartment', '.', 'She', 'took', 'the', 'time', 'to', 'process', 'everything',\n",
      " 'and', 'respond', 'very', 'quickly', ',', 'and', 'made', 'my', 'move-in',\n",
      " 'very', 'painless', '.', 'Even', 'after', 'I', 'moved', 'in', 'I', 'can',\n",
      " 'tell', 'that', 'she', 'is', 'very', 'friendly', 'and', 'accommodating', 'to',\n",
      " 'all', 'the', 'residents', ',', 'and', 'I', \"'m\", 'thankful', 'that', 'I',\n",
      " 'met', 'such', 'a', 'good', 'person', 'to', 'help', 'me', 'start', 'my',\n",
      " 'new', 'life', 'in', 'LA', '!', 'Overall', 'the', 'entire', 'staff', 'at',\n",
      " 'The', 'Pearl', 'is', 'very', 'friendly', 'and', 'helpful', ',', 'and', 'the',\n",
      " 'amenities', 'in', 'this', 'building', 'are', 'excellent', '.', 'What', 'I',\n",
      " 'like', 'most', 'is', 'that', 'the', 'building', 'is', 'under', 'constant',\n",
      " 'improvement', 'and', 'adding', 'new', 'amenities', '.', 'The', 'staff',\n",
      " 'also', 'listens', 'closely', 'to', 'the', \"resident\\\\'92s\", 'comments', ',',\n",
      " 'and', 'makes', 'improvements', 'according', 'to', 'our', 'concerns', '.',\n",
      " 'It', 'feels', 'like', 'the', 'staff', 'really', 'cares', 'about', 'the',\n",
      " 'people', 'who', 'live', 'here', ',', 'which', 'is', 'not', 'something', 'I',\n",
      " 'have', 'experienced', 'in', 'other', 'apartments', 'I', 'have', 'lived',\n",
      " 'in', '!', 'I', 'love', 'this', 'place', 'and', 'would', 'definitely',\n",
      " 'recommend', 'living', 'here', 'to', 'anyone', 'else', '!']\n",
      "['I', \"'\", 've', 'lived', 'in', 'this', 'complex', 'for', '2', 'years', 'and',\n",
      " 'it', 'had', 'been', 'great', '!', 'The', 'management', 'and', 'maintenance',\n",
      " 'are', 'super', 'helpful', 'and', 'very', 'professional']\n"
     ]
    }
   ],
   "source": [
    "#splits raw text into individual words\n",
    "tokenized_text=[]\n",
    "for text in review: \n",
    "    tokenized_text.append(nltk.word_tokenize(text))\n",
    "#print to check\n",
    "for i in tokenized_text:\n",
    "    pprint(i, width=79, compact=True)"
   ]
  },
  {
   "cell_type": "code",
   "execution_count": 4,
   "id": "84f87631",
   "metadata": {},
   "outputs": [],
   "source": [
    "#filter out punctuation\n",
    "for i in range(len(tokenized_text)):\n",
    "    tokenized_text[i] = [w for w in tokenized_text[i] if w.isalpha()]"
   ]
  },
  {
   "cell_type": "code",
   "execution_count": 5,
   "id": "ec11f01a",
   "metadata": {},
   "outputs": [],
   "source": [
    "#delete stopwords\n",
    "stopwords = nltk.corpus.stopwords.words(\"english\")\n",
    "for i in range(len(tokenized_text)):\n",
    "    tokenized_text[i] = [w for w in tokenized_text[i] if w.lower() not in stopwords]"
   ]
  },
  {
   "cell_type": "markdown",
   "id": "44c06053",
   "metadata": {},
   "source": [
    "# Find 10 most frequent words/phrase for zip code 90005"
   ]
  },
  {
   "cell_type": "code",
   "execution_count": 6,
   "id": "0dccbd18",
   "metadata": {},
   "outputs": [
    {
     "name": "stdout",
     "output_type": "stream",
     "text": [
      " apartment   building management      place        new    helpful   property    leasing   security       live \n",
      "        11         10          9          9          8          8          7          6          6          6 \n",
      "None\n"
     ]
    }
   ],
   "source": [
    "zip_text = list(itertools.chain.from_iterable(tokenized_text))\n",
    "fd = nltk.FreqDist(zip_text) #create frequency distribution\n",
    "lower_fd = nltk.FreqDist([w.lower() for w in fd])\n",
    "print(fd.tabulate(10))"
   ]
  },
  {
   "cell_type": "code",
   "execution_count": 7,
   "id": "c5cebd12",
   "metadata": {},
   "outputs": [
    {
     "name": "stdout",
     "output_type": "stream",
     "text": [
      "    ('leasing', 'agent')     ('super', 'helpful') ('medical', 'marijuana')         ('fresh', 'air') \n",
      "                       4                        4                        3                        2 \n"
     ]
    }
   ],
   "source": [
    "#some frequent words above are confusing, so we take a look at frequent phrases to see if there is a meaningful explanation\n",
    "finder = nltk.collocations.BigramCollocationFinder.from_words(zip_text)\n",
    "finder.ngram_fd.tabulate(4)"
   ]
  },
  {
   "cell_type": "markdown",
   "id": "248690b8",
   "metadata": {},
   "source": [
    "From the 10 most frequent words, we find that residents focus on management, year built, security, smoke policy, leasing agent of properties. Also, residents prefer apartments."
   ]
  },
  {
   "cell_type": "markdown",
   "id": "40d43c10",
   "metadata": {},
   "source": [
    "# Generate a Word Cloud to visualize our analysis"
   ]
  },
  {
   "cell_type": "code",
   "execution_count": 8,
   "id": "b7c341e0",
   "metadata": {},
   "outputs": [],
   "source": [
    "# Create a cleaned review in a series\n",
    "  \n",
    "ser = pd.Series(np.array(zip_text))"
   ]
  },
  {
   "cell_type": "code",
   "execution_count": 9,
   "id": "da61beb9",
   "metadata": {},
   "outputs": [
    {
     "data": {
      "image/png": "[encoded data removed]",
      "text/plain": [
       "<Figure size 432x288 with 1 Axes>"
      ]
     },
     "metadata": {
      "needs_background": "light"
     },
     "output_type": "display_data"
    }
   ],
   "source": [
    "def plot_wordcloud(series,output_filename='wordcloud'):\n",
    "\n",
    "    wordcloud = WordCloud().generate(' '.join(series.astype(str)))\n",
    "\n",
    "    wordcloud.to_file(output_filename + '.png')\n",
    "\n",
    "    plt.imshow(wordcloud, interpolation='bilinear')\n",
    "\n",
    "    plt.axis(\"off\")\n",
    "\n",
    "plot_wordcloud(ser,'overall-wordcloud')"
   ]
  },
  {
   "cell_type": "markdown",
   "id": "8667fbf7",
   "metadata": {},
   "source": [
    "# Explore residents' attitudes (positive/negative)"
   ]
  },
  {
   "cell_type": "code",
   "execution_count": 10,
   "id": "9ea58db8",
   "metadata": {},
   "outputs": [],
   "source": [
    "Senti_Analysis = SentimentIntensityAnalyzer()"
   ]
  },
  {
   "cell_type": "code",
   "execution_count": 11,
   "id": "02a1b15b",
   "metadata": {},
   "outputs": [],
   "source": [
    "#create a dataframe of reviews\n",
    "d = {'reviews': review, 'actual_emotion': ['Negative', 'Positive', 'Positive', 'Positive', 'Negative', 'Positive','Negative',\n",
    "                                          'Positive','Positive','Positive']}\n",
    "df = pd.DataFrame(data=d)"
   ]
  },
  {
   "cell_type": "code",
   "execution_count": 12,
   "id": "559824ac",
   "metadata": {},
   "outputs": [],
   "source": [
    "def get_sentiment(text:str, analyser,desired_type:str='pos'):\n",
    "    # Get sentiment from text\n",
    "    sentiment_score = analyser.polarity_scores(text)\n",
    "    return sentiment_score[desired_type]\n",
    "\n",
    "# Get Compound Sentiment scores\n",
    "def get_sentiment_scores(df,data_column):\n",
    "    df[f'{data_column} Compound Sentiment Score'] = df[data_column].astype(str).apply(lambda x: get_sentiment(x,Senti_Analysis,'compound'))\n",
    "    return df"
   ]
  },
  {
   "cell_type": "code",
   "execution_count": 13,
   "id": "cef2eed1",
   "metadata": {},
   "outputs": [
    {
     "data": {
      "text/html": [
       "<div>\n",
       "<style scoped>\n",
       "    .dataframe tbody tr th:only-of-type {\n",
       "        vertical-align: middle;\n",
       "    }\n",
       "\n",
       "    .dataframe tbody tr th {\n",
       "        vertical-align: top;\n",
       "    }\n",
       "\n",
       "    .dataframe thead th {\n",
       "        text-align: right;\n",
       "    }\n",
       "</style>\n",
       "<table border=\"1\" class=\"dataframe\">\n",
       "  <thead>\n",
       "    <tr style=\"text-align: right;\">\n",
       "      <th></th>\n",
       "      <th>reviews</th>\n",
       "      <th>actual_emotion</th>\n",
       "      <th>reviews Compound Sentiment Score</th>\n",
       "    </tr>\n",
       "  </thead>\n",
       "  <tbody>\n",
       "    <tr>\n",
       "      <th>6</th>\n",
       "      <td>DO NOT MOVE HERE! This is why.... 1. This plac...</td>\n",
       "      <td>Negative</td>\n",
       "      <td>0.9284</td>\n",
       "    </tr>\n",
       "    <tr>\n",
       "      <th>1</th>\n",
       "      <td>This is my first time to live in an apartment ...</td>\n",
       "      <td>Positive</td>\n",
       "      <td>0.9147</td>\n",
       "    </tr>\n",
       "    <tr>\n",
       "      <th>7</th>\n",
       "      <td>Cristina and the staff were very friendly and ...</td>\n",
       "      <td>Positive</td>\n",
       "      <td>0.9757</td>\n",
       "    </tr>\n",
       "    <tr>\n",
       "      <th>0</th>\n",
       "      <td>Worst Place I' ve Ever Rented. Proceed With Ca...</td>\n",
       "      <td>Negative</td>\n",
       "      <td>-0.9528</td>\n",
       "    </tr>\n",
       "    <tr>\n",
       "      <th>2</th>\n",
       "      <td>Beautiful, modern new building with a killer r...</td>\n",
       "      <td>Positive</td>\n",
       "      <td>0.9618</td>\n",
       "    </tr>\n",
       "    <tr>\n",
       "      <th>9</th>\n",
       "      <td>I' ve lived in this complex for 2 years and it...</td>\n",
       "      <td>Positive</td>\n",
       "      <td>0.9020</td>\n",
       "    </tr>\n",
       "    <tr>\n",
       "      <th>4</th>\n",
       "      <td>Brand new \"luxury\" apartment in k-town with so...</td>\n",
       "      <td>Negative</td>\n",
       "      <td>-0.8983</td>\n",
       "    </tr>\n",
       "    <tr>\n",
       "      <th>8</th>\n",
       "      <td>Scarlett was my leasing agent and the tour was...</td>\n",
       "      <td>Positive</td>\n",
       "      <td>0.9956</td>\n",
       "    </tr>\n",
       "    <tr>\n",
       "      <th>3</th>\n",
       "      <td>I' ve lived in good old glorious KTown for abo...</td>\n",
       "      <td>Positive</td>\n",
       "      <td>0.9753</td>\n",
       "    </tr>\n",
       "    <tr>\n",
       "      <th>5</th>\n",
       "      <td>High end apartments that are extremely spaciou...</td>\n",
       "      <td>Positive</td>\n",
       "      <td>0.9562</td>\n",
       "    </tr>\n",
       "  </tbody>\n",
       "</table>\n",
       "</div>"
      ],
      "text/plain": [
       "                                             reviews actual_emotion  \\\n",
       "6  DO NOT MOVE HERE! This is why.... 1. This plac...       Negative   \n",
       "1  This is my first time to live in an apartment ...       Positive   \n",
       "7  Cristina and the staff were very friendly and ...       Positive   \n",
       "0  Worst Place I' ve Ever Rented. Proceed With Ca...       Negative   \n",
       "2  Beautiful, modern new building with a killer r...       Positive   \n",
       "9  I' ve lived in this complex for 2 years and it...       Positive   \n",
       "4  Brand new \"luxury\" apartment in k-town with so...       Negative   \n",
       "8  Scarlett was my leasing agent and the tour was...       Positive   \n",
       "3  I' ve lived in good old glorious KTown for abo...       Positive   \n",
       "5  High end apartments that are extremely spaciou...       Positive   \n",
       "\n",
       "   reviews Compound Sentiment Score  \n",
       "6                            0.9284  \n",
       "1                            0.9147  \n",
       "7                            0.9757  \n",
       "0                           -0.9528  \n",
       "2                            0.9618  \n",
       "9                            0.9020  \n",
       "4                           -0.8983  \n",
       "8                            0.9956  \n",
       "3                            0.9753  \n",
       "5                            0.9562  "
      ]
     },
     "metadata": {},
     "output_type": "display_data"
    }
   ],
   "source": [
    "text_sentiment = get_sentiment_scores(df,'reviews')\n",
    "\n",
    "display(text_sentiment.sample(10))"
   ]
  },
  {
   "cell_type": "code",
   "execution_count": 14,
   "id": "97605de1",
   "metadata": {},
   "outputs": [],
   "source": [
    "#predict Residents' emotions based on score\n",
    "def label_sentiment(row):\n",
    "    if row['reviews Compound Sentiment Score']<=0 :\n",
    "        return 'Negative'\n",
    "    return 'Positive'\n",
    "df['pred_emotion'] = df.apply (lambda row: label_sentiment(row), axis=1)"
   ]
  },
  {
   "cell_type": "code",
   "execution_count": 15,
   "id": "b376a760",
   "metadata": {},
   "outputs": [
    {
     "name": "stdout",
     "output_type": "stream",
     "text": [
      "0.9\n"
     ]
    }
   ],
   "source": [
    "#calculate accuracy of our sentiment analysis\n",
    "correct = 0\n",
    "for row_index in range(len(df)):\n",
    "    if df.loc[row_index]['actual_emotion']==df.loc[row_index]['pred_emotion']:\n",
    "        correct+=1\n",
    "accuracy=correct/len(df)\n",
    "print(accuracy)"
   ]
  },
  {
   "cell_type": "markdown",
   "id": "57ba6695",
   "metadata": {},
   "source": [
    "With reviews, we analyze residents' emotions for each apartment and our analysis has high accuracy."
   ]
  }
 ],
 "metadata": {
  "kernelspec": {
   "display_name": "Python 3",
   "language": "python",
   "name": "python3"
  },
  "language_info": {
   "codemirror_mode": {
    "name": "ipython",
    "version": 3
   },
   "file_extension": ".py",
   "mimetype": "text/x-python",
   "name": "python",
   "nbconvert_exporter": "python",
   "pygments_lexer": "ipython3",
   "version": "3.8.8"
  }
 },
 "nbformat": 4,
 "nbformat_minor": 5
}
