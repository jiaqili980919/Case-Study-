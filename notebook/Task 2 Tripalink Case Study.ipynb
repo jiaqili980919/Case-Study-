{
 "cells": [
  {
   "cell_type": "markdown",
   "id": "c662ab83",
   "metadata": {},
   "source": [
    "# Import Packages"
   ]
  },
  {
   "cell_type": "code",
   "execution_count": 1,
   "id": "20df8d50",
   "metadata": {},
   "outputs": [],
   "source": [
    "import numpy as np \n",
    "import pandas as pd\n",
    "import ast\n",
    "from sklearn.preprocessing import LabelBinarizer\n",
    "import matplotlib.pyplot as plt\n",
    "from sklearn.model_selection import cross_val_score\n",
    "from sklearn.cluster import KMeans\n",
    "from sklearn.metrics import silhouette_score\n",
    "from sklearn.model_selection import train_test_split\n",
    "from sklearn.metrics import mean_squared_error\n",
    "from sklearn import linear_model\n",
    "import statistics\n",
    "from sklearn.metrics import r2_score"
   ]
  },
  {
   "cell_type": "markdown",
   "id": "a40a324b",
   "metadata": {},
   "source": [
    "# Read Data"
   ]
  },
  {
   "cell_type": "code",
   "execution_count": 2,
   "id": "3f83937e",
   "metadata": {},
   "outputs": [],
   "source": [
    "data=pd.read_csv('../data/price_data.csv')  "
   ]
  },
  {
   "cell_type": "markdown",
   "id": "4819c617",
   "metadata": {},
   "source": [
    "# Preprocess Data"
   ]
  },
  {
   "cell_type": "markdown",
   "id": "68ebf8f4",
   "metadata": {},
   "source": [
    "1.id is a random number and address is unique value.\n",
    "\n",
    "2.brokers, buildingName, dateAdded, dateUpdated, mlsNumber, phones, taxID should not affect housing price.\n",
    "descriptions and reviews analysis are similar to what we have done for task 1.\n",
    "\n",
    "3.So much infomation lost in deposits, languageSpoken, LeasingTerms, listingName, numPeople, numRoom, paymentTypes, people, rules\n",
    "\n",
    "4.city, country, FloorSizeUnit, geoLocation, neighborhoods, postalCode, province for CA 90005 are same/similar\n",
    "\n",
    "5.geolocation is same as lattitude and longitude\n",
    "\n",
    "6.mostRecentStatus, statuses is not meaningful for calculating occupancy rate or prices\n",
    "\n",
    "7.propertyTaxes and prices are directly correlated (ie. proportional to each other)\n",
    "\n",
    "some other attributes should not affect prices\n",
    "\n",
    "From reasons listed above, we should deletd these useless/repetitive columns"
   ]
  },
  {
   "cell_type": "markdown",
   "id": "11a4782e",
   "metadata": {},
   "source": [
    "Note: Since Features has a lot to explore and I don't have so much time on it so I drop i, but we can expand information in it to predict prices\n",
    "\n",
    "After investigation, parking information doesn't have consistant formats, so we cannot have a standard to classify information and use in our analysis"
   ]
  },
  {
   "cell_type": "code",
   "execution_count": 3,
   "id": "61b24f6b",
   "metadata": {},
   "outputs": [],
   "source": [
    "#delete repetitive and useless columns\n",
    "df = data.drop(columns=['id','address', 'fees','brokers','features' ,'buildingName','city','country','dateAdded','dateUpdated','deposits','descriptions','floorSizeUnit','geoLocation','languagesSpoken','leasingTerms','listingName','managedBy','mostRecentStatusDate','mostRecentStatus','mlsNumber','neighborhoods','numPeople',\n",
    "                          'numRoom','paymentTypes','people','phones','postalCode','province','reviews','rules','taxID','propertyTaxes','statuses','parking'], axis=1)"
   ]
  },
  {
   "cell_type": "code",
   "execution_count": 4,
   "id": "36f6fd80",
   "metadata": {},
   "outputs": [],
   "source": [
    "# delete rows with 50% missing values\n",
    "df = df.dropna(thresh=7)"
   ]
  },
  {
   "cell_type": "markdown",
   "id": "9af6bc08",
   "metadata": {},
   "source": [
    "## change string to numbers"
   ]
  },
  {
   "cell_type": "markdown",
   "id": "53a3bf9e",
   "metadata": {},
   "source": [
    "#### clean price"
   ]
  },
  {
   "cell_type": "code",
   "execution_count": 5,
   "id": "34c8592d",
   "metadata": {},
   "outputs": [],
   "source": [
    "#clean prices into Max and Min price\n",
    "\n",
    "def get_string_dic(row):\n",
    "    if row['prices']!=np.nan:\n",
    "        d = \"},\"\n",
    "        no_list=[e+d for e in str(row['prices']).strip('][').split(d) if e]\n",
    "        no_list=[e.strip('},')+'}' for e in no_list] #get rid of brackets and split dictionaries\n",
    "        return no_list\n",
    "    return np.nan\n",
    "\n",
    "\n",
    "#s =  [e+d for e in line.split(d) if e]\n",
    "def get_max_min(row):\n",
    "    recent_record=row['string_dic'][0]\n",
    "    if recent_record!='nan}':\n",
    "        dict_val=ast.literal_eval(recent_record)\n",
    "        max_amount=dict_val[\"amountMax\"]\n",
    "        min_amount=dict_val[\"amountMin\"]\n",
    "        return [min_amount,max_amount]\n",
    "    return np.nan\n",
    "\n",
    "df['string_dic']=df.apply (lambda row: get_string_dic(row), axis=1)#get rid of the list \n",
    "df['price_range']=df.apply (lambda row: get_max_min(row), axis=1)#get price range from recent record"
   ]
  },
  {
   "cell_type": "code",
   "execution_count": 6,
   "id": "451a6f98",
   "metadata": {},
   "outputs": [],
   "source": [
    "#seperate price range to max and min and drop price range, string_dic, prices which are repetitve for our new columns\n",
    "df[\"Min_price\"] = df[\"price_range\"].str[0]\n",
    "df[\"Max_price\"] = df[\"price_range\"].str[1]\n",
    "df.drop(columns=['prices','string_dic','price_range'], axis=1, inplace=True)"
   ]
  },
  {
   "cell_type": "markdown",
   "id": "53f72449",
   "metadata": {},
   "source": [
    "#### clean pet policy"
   ]
  },
  {
   "cell_type": "code",
   "execution_count": 7,
   "id": "7e320677",
   "metadata": {},
   "outputs": [],
   "source": [
    "df['petPolicy'] = df['petPolicy'].fillna('NaN')"
   ]
  },
  {
   "cell_type": "code",
   "execution_count": 8,
   "id": "7daf69b6",
   "metadata": {},
   "outputs": [],
   "source": [
    "def clean_pet(row):\n",
    "    if 'no' in str(row['petPolicy']).lower():\n",
    "        return 1\n",
    "    elif row['petPolicy']=='NaN':\n",
    "        return np.nan\n",
    "    else :\n",
    "        return 0"
   ]
  },
  {
   "cell_type": "code",
   "execution_count": 9,
   "id": "a7a34304",
   "metadata": {},
   "outputs": [],
   "source": [
    "#0 means it doesn't have restriction on pet and 1 mean it has\n",
    "df['Pet_restriction']=df.apply (lambda row: clean_pet(row), axis=1)#get pet restriction column "
   ]
  },
  {
   "cell_type": "code",
   "execution_count": 10,
   "id": "de89c6f7",
   "metadata": {},
   "outputs": [],
   "source": [
    "df.drop(columns='petPolicy', axis=1, inplace=True)"
   ]
  },
  {
   "cell_type": "markdown",
   "id": "d42654fd",
   "metadata": {},
   "source": [
    "#### clean property type"
   ]
  },
  {
   "cell_type": "markdown",
   "id": "0bd4da7d",
   "metadata": {},
   "source": [
    "Since we don't have any null values in property type with our data now, we can convert to dummy variables as a dataframe directly and concate two dataframes together."
   ]
  },
  {
   "cell_type": "code",
   "execution_count": 11,
   "id": "eecb43e6",
   "metadata": {},
   "outputs": [],
   "source": [
    "# creating an object \n",
    "# of the LabelBinarizer\n",
    "label_binarizer = LabelBinarizer()\n",
    "  \n",
    "# fitting the column \n",
    "label_binarizer_output = label_binarizer.fit_transform( df['propertyType'])\n",
    "  \n",
    "# creating a data frame from the object\n",
    "result_df= pd.DataFrame(label_binarizer_output,\n",
    "                         columns = label_binarizer.classes_)\n",
    "  \n",
    "#concatenate two dataframes together\n",
    "df.reset_index(drop=True, inplace=True)\n",
    "\n",
    "result = pd.concat([df, result_df], axis=1)\n",
    "\n",
    "#drop propertyType\n",
    "result.drop('propertyType', axis=1, inplace=True)"
   ]
  },
  {
   "cell_type": "markdown",
   "id": "b0eb9847",
   "metadata": {},
   "source": [
    "#### clean lot size unit"
   ]
  },
  {
   "cell_type": "code",
   "execution_count": 12,
   "id": "6926a752",
   "metadata": {},
   "outputs": [
    {
     "data": {
      "text/plain": [
       "array([nan, 'sq ft', 'acs'], dtype=object)"
      ]
     },
     "execution_count": 12,
     "metadata": {},
     "output_type": "execute_result"
    }
   ],
   "source": [
    "result.lotSizeUnit.unique() #check if it's binary or multiclass"
   ]
  },
  {
   "cell_type": "code",
   "execution_count": 13,
   "id": "6079d229",
   "metadata": {},
   "outputs": [],
   "source": [
    "result['lotSizeUnit'] =result['lotSizeUnit'].fillna('NaN')\n",
    "def clean_lot_unit(row):\n",
    "    if str(row['lotSizeUnit'])=='sq ft':\n",
    "        return 1\n",
    "    elif row['lotSizeUnit']=='NaN':\n",
    "        return np.nan\n",
    "    else :\n",
    "        return 0"
   ]
  },
  {
   "cell_type": "code",
   "execution_count": 14,
   "id": "7cd33178",
   "metadata": {},
   "outputs": [],
   "source": [
    "#0 means it's acs and 1 means it's sq ft\n",
    "result['Lot_size_unit']=result.apply (lambda row: clean_lot_unit(row), axis=1)#get pet restriction column "
   ]
  },
  {
   "cell_type": "code",
   "execution_count": 15,
   "id": "ddf39851",
   "metadata": {},
   "outputs": [],
   "source": [
    "result.drop(columns='lotSizeUnit', axis=1, inplace=True)"
   ]
  },
  {
   "cell_type": "markdown",
   "id": "5d046cc8",
   "metadata": {},
   "source": [
    "### clean longitude"
   ]
  },
  {
   "cell_type": "code",
   "execution_count": 16,
   "id": "b32fe30d",
   "metadata": {},
   "outputs": [],
   "source": [
    "#convert to positive for calculation/visulization\n",
    "result['longitude']=-result['longitude']"
   ]
  },
  {
   "cell_type": "markdown",
   "id": "b53fa3ac",
   "metadata": {},
   "source": [
    "## Clean Missing values"
   ]
  },
  {
   "cell_type": "markdown",
   "id": "64d24076",
   "metadata": {},
   "source": [
    "### visualize locations"
   ]
  },
  {
   "cell_type": "code",
   "execution_count": 17,
   "id": "e331dfe7",
   "metadata": {},
   "outputs": [
    {
     "data": {
      "text/plain": [
       "Text(0, 0.5, 'latitude')"
      ]
     },
     "execution_count": 17,
     "metadata": {},
     "output_type": "execute_result"
    },
    {
     "data": {
      "image/png": "[encoded data removed]",
      "text/plain": [
       "<Figure size 432x288 with 1 Axes>"
      ]
     },
     "metadata": {
      "needs_background": "light"
     },
     "output_type": "display_data"
    }
   ],
   "source": [
    "plt.plot(result['longitude'], result['latitude'], 'o', color='black')\n",
    "plt.xlabel(\"negative longtitude\")\n",
    "plt.ylabel(\"latitude\")"
   ]
  },
  {
   "cell_type": "markdown",
   "id": "20414dac",
   "metadata": {},
   "source": [
    "### Kmeans Clustering"
   ]
  },
  {
   "cell_type": "markdown",
   "id": "0ee52e2f",
   "metadata": {},
   "source": [
    "From the plots we can see some data points can be clustered. Since apartments/houses in similar latitude and longitude should share similar floorsize, numBathroom, numBedroom, numUnit, petPolicy, property type, price, I believe we can fill missing values of data points with the data points in the same cluster."
   ]
  },
  {
   "cell_type": "code",
   "execution_count": 18,
   "id": "73a21435",
   "metadata": {},
   "outputs": [
    {
     "data": {
      "text/plain": [
       "latitude     0\n",
       "longitude    0\n",
       "dtype: int64"
      ]
     },
     "execution_count": 18,
     "metadata": {},
     "output_type": "execute_result"
    }
   ],
   "source": [
    "features=result.iloc[:,1:3]\n",
    "features.isnull().sum() #no null "
   ]
  },
  {
   "cell_type": "code",
   "execution_count": 19,
   "id": "6b978393",
   "metadata": {},
   "outputs": [],
   "source": [
    "#find optimal k\n",
    "def find_optimal_k(features):\n",
    "    silhouette_coefficients = {}\n",
    "    for k in range(2,51):\n",
    "        kmeans = KMeans(n_clusters=k)\n",
    "        kmeans.fit(features)\n",
    "        score = silhouette_score(features, kmeans.labels_)\n",
    "        silhouette_coefficients [str(k)]=score\n",
    "    optimal_k=int(max(silhouette_coefficients, key=silhouette_coefficients.get))# best k with scores\n",
    "    return optimal_k"
   ]
  },
  {
   "cell_type": "code",
   "execution_count": 20,
   "id": "05814129",
   "metadata": {},
   "outputs": [],
   "source": [
    "optimal_k=find_optimal_k(features)\n",
    "kmeans = KMeans(n_clusters=optimal_k,random_state=0)\n",
    "kmeans.fit(features)\n",
    "result['Cluster']=kmeans.labels_"
   ]
  },
  {
   "cell_type": "markdown",
   "id": "fa6748b3",
   "metadata": {},
   "source": [
    "### Find what filling value is appropriate for each column (visualize)"
   ]
  },
  {
   "cell_type": "markdown",
   "id": "68b14255",
   "metadata": {},
   "source": [
    "Note: For dummy variables, I will replace missing values with majority vote for each cluster since it has no median, mean, minimum, etc."
   ]
  },
  {
   "cell_type": "code",
   "execution_count": 21,
   "id": "14bd63cb",
   "metadata": {},
   "outputs": [
    {
     "data": {
      "text/plain": [
       "floorSizeValue            20\n",
       "latitude                   0\n",
       "longitude                  0\n",
       "lotSizeValue              57\n",
       "numBathroom                2\n",
       "numBedroom                24\n",
       "numFloor                  66\n",
       "numUnit                   29\n",
       "yearBuilt                 46\n",
       "Min_price                  6\n",
       "Max_price                  6\n",
       "Pet_restriction           40\n",
       "Apartment                  0\n",
       "Commercial                 0\n",
       "Condo                      0\n",
       "Industrial                 0\n",
       "Multi-Family Dwelling      0\n",
       "Single Family Dwelling     0\n",
       "Lot_size_unit             57\n",
       "Cluster                    0\n",
       "dtype: int64"
      ]
     },
     "execution_count": 21,
     "metadata": {},
     "output_type": "execute_result"
    }
   ],
   "source": [
    "#find out which columns have missing values\n",
    "result.isnull().sum()"
   ]
  },
  {
   "cell_type": "code",
   "execution_count": 22,
   "id": "fc559a2f",
   "metadata": {},
   "outputs": [
    {
     "data": {
      "text/plain": [
       "Text(0, 0.5, 'Floor Size Value')"
      ]
     },
     "execution_count": 22,
     "metadata": {},
     "output_type": "execute_result"
    },
    {
     "data": {
      "image/png": "[encoded data removed]",
      "text/plain": [
       "<Figure size 432x288 with 1 Axes>"
      ]
     },
     "metadata": {
      "needs_background": "light"
     },
     "output_type": "display_data"
    }
   ],
   "source": [
    "# Visualize floorSizeValue\n",
    "plt.plot(result.index.tolist(), result['floorSizeValue'], 'o', color='black')\n",
    "plt.xlabel(\"index\")\n",
    "plt.ylabel(\"Floor Size Value\")"
   ]
  },
  {
   "cell_type": "markdown",
   "id": "94ddc729",
   "metadata": {},
   "source": [
    "From the plot above, we can see that most data points are around 0-10000 with little outliers, so it's appropriate for us to use overall median values of floor size value to replace missing values. (bc outliers has little effect on median values)"
   ]
  },
  {
   "cell_type": "code",
   "execution_count": 23,
   "id": "50eb4e46",
   "metadata": {},
   "outputs": [
    {
     "data": {
      "text/plain": [
       "[Text(0.5, 0, 'Cluster'), Text(0, 0.5, 'Lot Size Value')]"
      ]
     },
     "execution_count": 23,
     "metadata": {},
     "output_type": "execute_result"
    },
    {
     "data": {
      "image/png": "[encoded data removed]",
      "text/plain": [
       "<Figure size 432x288 with 2 Axes>"
      ]
     },
     "metadata": {
      "needs_background": "light"
     },
     "output_type": "display_data"
    }
   ],
   "source": [
    "# Visualize lot size value \n",
    "fig, axs = plt.subplots(2)\n",
    "axs[0].plot(result.index.tolist(), result['lotSizeValue'], 'o', color='black')\n",
    "axs[1].plot(result['Cluster'], result['lotSizeValue'], 'o', color='black')\n",
    "axs[0].set(xlabel=\"index\", ylabel=\"Lot Size Value\")\n",
    "axs[1].set(xlabel=\"Cluster\", ylabel=\"Lot Size Value\")"
   ]
  },
  {
   "cell_type": "markdown",
   "id": "c30b5843",
   "metadata": {},
   "source": [
    "From comparision of two graphs above, we can see the trend for Lot Size Value is more explainable. For each cluster, most points are close to each other with some outliers. Thus, we will use median of Lot Size Value in each cluster to replace missing values. Furthermore, since LotSizeUnit is corresponding to LotSizeValue, so we will also replace missing values with median for each cluster in LotSizeUnit."
   ]
  },
  {
   "cell_type": "code",
   "execution_count": 24,
   "id": "71ee3970",
   "metadata": {},
   "outputs": [
    {
     "data": {
      "text/plain": [
       "[Text(0.5, 0, 'Cluster'), Text(0, 0.5, 'numBathroom')]"
      ]
     },
     "execution_count": 24,
     "metadata": {},
     "output_type": "execute_result"
    },
    {
     "data": {
      "image/png": "[encoded data removed]",
      "text/plain": [
       "<Figure size 432x288 with 2 Axes>"
      ]
     },
     "metadata": {
      "needs_background": "light"
     },
     "output_type": "display_data"
    }
   ],
   "source": [
    "# Visualize numBathroom \n",
    "fig, axs = plt.subplots(2)\n",
    "axs[0].plot(result.index.tolist(), result['numBathroom'], 'o', color='black')\n",
    "axs[1].plot(result['Cluster'], result['numBathroom'], 'o', color='black')\n",
    "axs[0].set(xlabel=\"index\", ylabel=\"numBathroom\")\n",
    "axs[1].set(xlabel=\"Cluster\", ylabel=\"numBathroom\")"
   ]
  },
  {
   "cell_type": "markdown",
   "id": "aa17c3c1",
   "metadata": {},
   "source": [
    "From comparision of two graphs above, we can see the trend for numBathroom is more explainable. For each cluster, most points are close to each other with some outliers. Thus, we will use median of numBathroom in each cluster to replace missing values"
   ]
  },
  {
   "cell_type": "code",
   "execution_count": 25,
   "id": "a631316f",
   "metadata": {},
   "outputs": [
    {
     "data": {
      "text/plain": [
       "[Text(0.5, 0, 'Cluster'), Text(0, 0.5, 'numBedroom')]"
      ]
     },
     "execution_count": 25,
     "metadata": {},
     "output_type": "execute_result"
    },
    {
     "data": {
      "image/png": "[encoded data removed]",
      "text/plain": [
       "<Figure size 432x288 with 2 Axes>"
      ]
     },
     "metadata": {
      "needs_background": "light"
     },
     "output_type": "display_data"
    }
   ],
   "source": [
    "# Visualize numBedroom \n",
    "fig, axs = plt.subplots(2)\n",
    "axs[0].plot(result.index.tolist(), result['numBedroom'], 'o', color='black')\n",
    "axs[1].plot(result['Cluster'], result['numBedroom'], 'o', color='black')\n",
    "axs[0].set(xlabel=\"index\", ylabel=\"numBedroom\")\n",
    "axs[1].set(xlabel=\"Cluster\", ylabel=\"numBedroom\")"
   ]
  },
  {
   "cell_type": "markdown",
   "id": "51783295",
   "metadata": {},
   "source": [
    "Similar to numBathroom, from comparision of two graphs above, we can see the trend for numBedroom is more explainable in clusters. For each cluster, most points are close to each other with some outliers. Thus, we will use median of numBedroom in each cluster to replace missing values"
   ]
  },
  {
   "cell_type": "code",
   "execution_count": 26,
   "id": "62601f32",
   "metadata": {},
   "outputs": [
    {
     "data": {
      "text/plain": [
       "[Text(0.5, 0, 'Cluster'), Text(0, 0.5, 'numFloor')]"
      ]
     },
     "execution_count": 26,
     "metadata": {},
     "output_type": "execute_result"
    },
    {
     "data": {
      "image/png": "[encoded data removed]",
      "text/plain": [
       "<Figure size 432x288 with 2 Axes>"
      ]
     },
     "metadata": {
      "needs_background": "light"
     },
     "output_type": "display_data"
    }
   ],
   "source": [
    "# Visualize numFloor  \n",
    "fig, axs = plt.subplots(2)\n",
    "axs[0].plot(result.index.tolist(), result['numFloor'], 'o', color='black')\n",
    "axs[1].plot(result['Cluster'], result['numFloor'], 'o', color='black')\n",
    "axs[0].set(xlabel=\"index\", ylabel=\"numFloor\")\n",
    "axs[1].set(xlabel=\"Cluster\", ylabel=\"numFloor\")"
   ]
  },
  {
   "cell_type": "markdown",
   "id": "16f32c35",
   "metadata": {},
   "source": [
    "From graphs above, we don't see any clear trend or outliers because limited known information. However, from conclusion with numBedroom and numBathroom, it will be better to replace missing values in numFloor with median for each cluster."
   ]
  },
  {
   "cell_type": "code",
   "execution_count": 27,
   "id": "efe9ca3d",
   "metadata": {},
   "outputs": [
    {
     "data": {
      "text/plain": [
       "[Text(0.5, 0, 'Cluster'), Text(0, 0.5, 'numUnit')]"
      ]
     },
     "execution_count": 27,
     "metadata": {},
     "output_type": "execute_result"
    },
    {
     "data": {
      "image/png": "[encoded data removed]",
      "text/plain": [
       "<Figure size 432x288 with 2 Axes>"
      ]
     },
     "metadata": {
      "needs_background": "light"
     },
     "output_type": "display_data"
    }
   ],
   "source": [
    "# Visualize numUnit \n",
    "fig, axs = plt.subplots(2)\n",
    "axs[0].plot(result.index.tolist(), result['numUnit'], 'o', color='black')\n",
    "axs[1].plot(result['Cluster'], result['numUnit'], 'o', color='black')\n",
    "axs[0].set(xlabel=\"index\", ylabel=\"numUnit\")\n",
    "axs[1].set(xlabel=\"Cluster\", ylabel=\"numUnit\")"
   ]
  },
  {
   "cell_type": "markdown",
   "id": "0c4ff1ec",
   "metadata": {},
   "source": [
    "Similar to numBathroom, from comparision of two graphs above, we can see the trend for numUnit is more explainable in clusters. For each cluster, most points are close to each other with some outliers. Thus, we will use median of numUnit in each cluster to replace missing values"
   ]
  },
  {
   "cell_type": "code",
   "execution_count": 28,
   "id": "9989e8dd",
   "metadata": {},
   "outputs": [
    {
     "data": {
      "text/plain": [
       "[Text(0.5, 0, 'Cluster'), Text(0, 0.5, 'yearBuilt')]"
      ]
     },
     "execution_count": 28,
     "metadata": {},
     "output_type": "execute_result"
    },
    {
     "data": {
      "image/png": "[encoded data removed]",
      "text/plain": [
       "<Figure size 432x288 with 2 Axes>"
      ]
     },
     "metadata": {
      "needs_background": "light"
     },
     "output_type": "display_data"
    }
   ],
   "source": [
    "# Visualize yearBuilt\n",
    "fig, axs = plt.subplots(2)\n",
    "axs[0].plot(result.index.tolist(), result['yearBuilt'], 'o', color='black')\n",
    "axs[1].plot(result['Cluster'], result['yearBuilt'], 'o', color='black')\n",
    "axs[0].set(xlabel=\"index\", ylabel=\"yearBuilt\")\n",
    "axs[1].set(xlabel=\"Cluster\", ylabel=\"yearBuilt\")"
   ]
  },
  {
   "cell_type": "markdown",
   "id": "e1d367ea",
   "metadata": {},
   "source": [
    "Similar to numBathroom, from comparision of two graphs above, we can see the trend for yearBuilt is more explainable in clusters. For each cluster, most points are close to each other with some outliers. Thus, we will use median of yearBuilt in each cluster to replace missing values"
   ]
  },
  {
   "cell_type": "code",
   "execution_count": 29,
   "id": "82a970d9",
   "metadata": {},
   "outputs": [
    {
     "data": {
      "text/plain": [
       "[Text(0.5, 0, 'Cluster'), Text(0, 0.5, 'Min_price')]"
      ]
     },
     "execution_count": 29,
     "metadata": {},
     "output_type": "execute_result"
    },
    {
     "data": {
      "image/png": "[encoded data removed]",
      "text/plain": [
       "<Figure size 432x288 with 2 Axes>"
      ]
     },
     "metadata": {
      "needs_background": "light"
     },
     "output_type": "display_data"
    }
   ],
   "source": [
    "# Visualize Min_price\n",
    "fig, axs = plt.subplots(2)\n",
    "axs[0].plot(result.index.tolist(), result['Min_price'], 'o', color='black')\n",
    "axs[1].plot(result['Cluster'], result['Min_price'], 'o', color='black')\n",
    "axs[0].set(xlabel=\"index\", ylabel=\"Min_price\")\n",
    "axs[1].set(xlabel=\"Cluster\", ylabel=\"Min_price\")"
   ]
  },
  {
   "cell_type": "markdown",
   "id": "7a1c7df3",
   "metadata": {},
   "source": [
    "Similar to numBathroom, from comparision of two graphs above, we can see the trend for Min_price is more explainable in clusters. For each cluster, most points are close to each other with some outliers. Thus, we will use median of Min_price in each cluster to replace missing values"
   ]
  },
  {
   "cell_type": "code",
   "execution_count": 30,
   "id": "fde781fc",
   "metadata": {},
   "outputs": [
    {
     "data": {
      "text/plain": [
       "[Text(0.5, 0, 'Cluster'), Text(0, 0.5, 'Max_price')]"
      ]
     },
     "execution_count": 30,
     "metadata": {},
     "output_type": "execute_result"
    },
    {
     "data": {
      "image/png": "[encoded data removed]",
      "text/plain": [
       "<Figure size 432x288 with 2 Axes>"
      ]
     },
     "metadata": {
      "needs_background": "light"
     },
     "output_type": "display_data"
    }
   ],
   "source": [
    "# Visualize Max_price\n",
    "fig, axs = plt.subplots(2)\n",
    "axs[0].plot(result.index.tolist(), result['Max_price'], 'o', color='black')\n",
    "axs[1].plot(result['Cluster'], result['Max_price'], 'o', color='black')\n",
    "axs[0].set(xlabel=\"index\", ylabel=\"Max_price\")\n",
    "axs[1].set(xlabel=\"Cluster\", ylabel=\"Max_price\")"
   ]
  },
  {
   "cell_type": "markdown",
   "id": "31a0c853",
   "metadata": {},
   "source": [
    "Same as Min_price."
   ]
  },
  {
   "cell_type": "markdown",
   "id": "7bbb2a46",
   "metadata": {},
   "source": [
    "### Clean Missing values with appropriate values listed above"
   ]
  },
  {
   "cell_type": "code",
   "execution_count": 31,
   "id": "790dacc4",
   "metadata": {},
   "outputs": [],
   "source": [
    "#clean for floorSizeValue\n",
    "med_floorSize=np.nanmedian(result['floorSizeValue'])\n",
    "result['floorSizeValue']=result['floorSizeValue'].fillna(med_floorSize)"
   ]
  },
  {
   "cell_type": "code",
   "execution_count": 32,
   "id": "80b15afb",
   "metadata": {},
   "outputs": [
    {
     "data": {
      "text/plain": [
       "\"result['lotSizeValue'] =result['lotSizeValue'].fillna('NaN')\\nresult['numBathroom'] =result['numBathroom'].fillna('NaN')\\nresult['numBedroom'] =result['numBedroom'].fillna('NaN')\\nresult['numFloor'] =result['numFloor'].fillna('NaN')\\nresult['numUnit'] =result['numUnit'].fillna('NaN')\\nresult['yearBuilt'] =result['yearBuilt'].fillna('NaN')\\nresult['Min_price'] =result['Min_price'].fillna('NaN')\\nresult['Max_price'] =result['Max_price'].fillna('NaN')\\nresult['Pet_restriction'] =result['Pet_restriction'].fillna('NaN')\\nresult['Lot_size_unit'] =result['Lot_size_unit'].fillna('NaN')\""
      ]
     },
     "execution_count": 32,
     "metadata": {},
     "output_type": "execute_result"
    }
   ],
   "source": [
    "#fill nan with 'NaN'\n",
    "'''result['lotSizeValue'] =result['lotSizeValue'].fillna('NaN')\n",
    "result['numBathroom'] =result['numBathroom'].fillna('NaN')\n",
    "result['numBedroom'] =result['numBedroom'].fillna('NaN')\n",
    "result['numFloor'] =result['numFloor'].fillna('NaN')\n",
    "result['numUnit'] =result['numUnit'].fillna('NaN')\n",
    "result['yearBuilt'] =result['yearBuilt'].fillna('NaN')\n",
    "result['Min_price'] =result['Min_price'].fillna('NaN')\n",
    "result['Max_price'] =result['Max_price'].fillna('NaN')\n",
    "result['Pet_restriction'] =result['Pet_restriction'].fillna('NaN')\n",
    "result['Lot_size_unit'] =result['Lot_size_unit'].fillna('NaN')'''"
   ]
  },
  {
   "cell_type": "code",
   "execution_count": 33,
   "id": "e39f6d9e",
   "metadata": {},
   "outputs": [],
   "source": [
    "#clean other values (not working for this dataset)\n",
    "def clean_pet_restriction(df,df_with_na,opt_k):\n",
    "    df['majority_pet_restriction']=np.nan\n",
    "    for i in range(opt_k):\n",
    "        majority_restriction=df_with_na.dropna().loc[df['Cluster'] == i].groupby('Pet_restriction').count().iloc[:,0].idxmax()\n",
    "        df.loc[(df.Cluster == i) & (df.Pet_restriction=='NaN'), 'Pet_restriction'] = majority_restriction #clean pet restriction\n",
    "    print(df)"
   ]
  },
  {
   "cell_type": "markdown",
   "id": "9b03d6d9",
   "metadata": {},
   "source": [
    "We tried to use majority vote/median for each clusters to clean other values, but because the dataset is small and null values are many, majority vote/median for some clusters are NaN, so we use medians and majority vote of the whole dataset instead of the clusters. However, filling na with majority vote/median for each cluster should be possible for larger dataset."
   ]
  },
  {
   "cell_type": "code",
   "execution_count": 34,
   "id": "50469d78",
   "metadata": {},
   "outputs": [],
   "source": [
    "#clean for other variables\n",
    "med_lotSizeValue=np.nanmedian(result['lotSizeValue'])\n",
    "result['lotSizeValue']=result['lotSizeValue'].fillna(med_lotSizeValue)\n",
    "\n",
    "med_numBathroom=np.nanmedian(result['numBathroom'])\n",
    "result['numBathroom']=result['numBathroom'].fillna(med_numBathroom)\n",
    "\n",
    "med_numBedroom=np.nanmedian(result['numBedroom'])\n",
    "result['numBedroom']=result['numBedroom'].fillna(med_numBedroom)\n",
    "\n",
    "med_numFloor=np.nanmedian(result['numFloor'])\n",
    "result['numFloor']=result['numFloor'].fillna(med_numFloor)\n",
    "\n",
    "med_numUnit=np.nanmedian(result['numUnit'])\n",
    "result['numUnit']=result['numUnit'].fillna(med_numUnit)\n",
    "\n",
    "med_yearBuilt=np.nanmedian(result['yearBuilt'])\n",
    "result['yearBuilt']=result['yearBuilt'].fillna(med_yearBuilt)\n",
    "\n",
    "med_Min_price=np.nanmedian(result['Min_price'])\n",
    "result['Min_price']=result['Min_price'].fillna(med_Min_price)\n",
    "\n",
    "med_Max_price=np.nanmedian(result['Max_price'])\n",
    "result['Max_price']=result['Max_price'].fillna(med_Max_price)\n",
    "\n",
    "med_Lot_size_unit=np.nanmedian(result['Lot_size_unit'])\n",
    "result['Lot_size_unit']=result['Lot_size_unit'].fillna(med_Lot_size_unit)\n",
    "\n",
    "\n",
    "result['Pet_restriction']=result['Pet_restriction'].fillna(result.groupby('Pet_restriction').count().iloc[:,0].idxmax())\n"
   ]
  },
  {
   "cell_type": "code",
   "execution_count": 35,
   "id": "8ea60a24",
   "metadata": {},
   "outputs": [
    {
     "data": {
      "text/plain": [
       "floorSizeValue            0\n",
       "latitude                  0\n",
       "longitude                 0\n",
       "lotSizeValue              0\n",
       "numBathroom               0\n",
       "numBedroom                0\n",
       "numFloor                  0\n",
       "numUnit                   0\n",
       "yearBuilt                 0\n",
       "Min_price                 0\n",
       "Max_price                 0\n",
       "Pet_restriction           0\n",
       "Apartment                 0\n",
       "Commercial                0\n",
       "Condo                     0\n",
       "Industrial                0\n",
       "Multi-Family Dwelling     0\n",
       "Single Family Dwelling    0\n",
       "Lot_size_unit             0\n",
       "Cluster                   0\n",
       "dtype: int64"
      ]
     },
     "execution_count": 35,
     "metadata": {},
     "output_type": "execute_result"
    }
   ],
   "source": [
    "#check which columns still have missing values\n",
    "result.isnull().sum()"
   ]
  },
  {
   "cell_type": "markdown",
   "id": "2cc92597",
   "metadata": {},
   "source": [
    "## Occupancy Rate"
   ]
  },
  {
   "cell_type": "markdown",
   "id": "c1f16737",
   "metadata": {},
   "source": [
    "The Occupancy is not indicated in this dataset and it's also not obvious in other datasets from the websites. Thus, I believe that we can find corresponding occupancy for each apartment one by one from LADBS. If I have time, I will create the occupancy column with information from LADBS and analyze the occupancy rate."
   ]
  },
  {
   "cell_type": "markdown",
   "id": "69a441a6",
   "metadata": {},
   "source": [
    "## Prediction of Pricing Range with Linear Regression"
   ]
  },
  {
   "cell_type": "code",
   "execution_count": 36,
   "id": "18fc1629",
   "metadata": {},
   "outputs": [],
   "source": [
    "#Since we use latitude and longtitude to replace missing values, some features will be highly correlated. Thus, we need to use LASSO regression\n",
    "X=result.drop(['Min_price', 'Max_price'], axis=1)\n",
    "Y_min=np.log(result['Min_price'])\n",
    "Y_max=np.log(result['Max_price'])\n",
    "X_train_min, X_test_min, y_train_min, y_test_min = train_test_split(X, Y_min, test_size=0.33, random_state=42)\n",
    "X_train_max, X_test_max, y_train_max, y_test_max = train_test_split(X, Y_max, test_size=0.33, random_state=42)"
   ]
  },
  {
   "cell_type": "markdown",
   "id": "92284071",
   "metadata": {},
   "source": [
    "### pred for min_price"
   ]
  },
  {
   "cell_type": "code",
   "execution_count": 37,
   "id": "20722291",
   "metadata": {},
   "outputs": [],
   "source": [
    "#create model and fit\n",
    "reg=linear_model.LinearRegression()\n",
    "reg.fit(X_train_min, y_train_min)\n",
    "reg_pred = abs(reg.predict(X_test_min))"
   ]
  },
  {
   "cell_type": "code",
   "execution_count": 38,
   "id": "a7f216f9",
   "metadata": {},
   "outputs": [
    {
     "name": "stdout",
     "output_type": "stream",
     "text": [
      "R2 score : -0.82\n"
     ]
    }
   ],
   "source": [
    "mean_squared_error(y_test_min, reg_pred)\n",
    "print(\"R2 score : %.2f\" % r2_score(y_test_min, reg_pred))"
   ]
  },
  {
   "cell_type": "markdown",
   "id": "88d1defc",
   "metadata": {},
   "source": [
    "### pred for max_price"
   ]
  },
  {
   "cell_type": "code",
   "execution_count": 39,
   "id": "729637cd",
   "metadata": {},
   "outputs": [],
   "source": [
    "#create model and fit\n",
    "reg=linear_model.LinearRegression()\n",
    "reg.fit(X_train_max, y_train_max)\n",
    "reg_pred = reg.predict(X_test_max)"
   ]
  },
  {
   "cell_type": "markdown",
   "id": "eaac6ddd",
   "metadata": {},
   "source": [
    "From the R^2 score, we know that linear regression is not appropriate for prediction or should be improved.\n",
    "We can try serveral models like KNN, LASSO, Ridge Regression, etc. to see if there are improvements.\n",
    "Also, we can adjust our ways of filling missing values and filtering out some outliers to see if there are improvements."
   ]
  },
  {
   "cell_type": "code",
   "execution_count": null,
   "id": "e7c899c7",
   "metadata": {},
   "outputs": [],
   "source": []
  }
 ],
 "metadata": {
  "kernelspec": {
   "display_name": "Python 3",
   "language": "python",
   "name": "python3"
  },
  "language_info": {
   "codemirror_mode": {
    "name": "ipython",
    "version": 3
   },
   "file_extension": ".py",
   "mimetype": "text/x-python",
   "name": "python",
   "nbconvert_exporter": "python",
   "pygments_lexer": "ipython3",
   "version": "3.8.8"
  }
 },
 "nbformat": 4,
 "nbformat_minor": 5
}
